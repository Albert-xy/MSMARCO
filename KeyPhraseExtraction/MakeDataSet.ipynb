{
 "cells": [
  {
   "cell_type": "code",
   "execution_count": 90,
   "metadata": {},
   "outputs": [],
   "source": [
    "import numpy as np\n",
    "import re\n",
    "files = ['100k.tsv', '85k.tsv']"
   ]
  },
  {
   "cell_type": "code",
   "execution_count": 98,
   "metadata": {},
   "outputs": [],
   "source": [
    "urls, overlap, p = {}, {}, []\n",
    "for file in files:\n",
    "    with open(file,'r') as f:\n",
    "        for l in f:\n",
    "            l = l.strip().split('\\t')\n",
    "            if l[14] not in urls:\n",
    "                urls[l[14]] = 0\n",
    "            urls[l[14]] += 1\n",
    "for file in files:\n",
    "    with open(file,'r') as f:\n",
    "        for l in f:\n",
    "            l = l.strip().split('\\t')\n",
    "            if urls[l[14]] > 1:\n",
    "                if l[14] not in overlap:\n",
    "                    overlap[l[14]] = []\n",
    "                overlap[l[14]].append(set(re.sub(' +', ' ',' '.join(l[16:]).strip()).split(' ')))"
   ]
  },
  {
   "cell_type": "code",
   "execution_count": 106,
   "metadata": {},
   "outputs": [],
   "source": [
    "p = []\n",
    "for url in overlap:\n",
    "    p.append(len(overlap[url][0] - overlap[url][1])/len(overlap[url][0]))"
   ]
  },
  {
   "cell_type": "code",
   "execution_count": 107,
   "metadata": {},
   "outputs": [
    {
     "data": {
      "text/plain": [
       "[0.0,\n",
       " 0.3333333333333333,\n",
       " 0.3333333333333333,\n",
       " 0.5,\n",
       " 0.0,\n",
       " 0.8571428571428571,\n",
       " 0.6666666666666666,\n",
       " 0.0,\n",
       " 0.6666666666666666,\n",
       " 0.0,\n",
       " 0.25,\n",
       " 0.5,\n",
       " 0.4,\n",
       " 0.625,\n",
       " 0.7142857142857143,\n",
       " 0.0,\n",
       " 0.5,\n",
       " 1.0,\n",
       " 0.6,\n",
       " 0.0,\n",
       " 0.2,\n",
       " 0.5,\n",
       " 0.5,\n",
       " 0.5714285714285714,\n",
       " 0.25]"
      ]
     },
     "execution_count": 107,
     "metadata": {},
     "output_type": "execute_result"
    }
   ],
   "source": [
    "p"
   ]
  },
  {
   "cell_type": "code",
   "execution_count": 108,
   "metadata": {},
   "outputs": [
    {
     "data": {
      "text/plain": [
       "0.39871428571428574"
      ]
     },
     "execution_count": 108,
     "metadata": {},
     "output_type": "execute_result"
    }
   ],
   "source": [
    "np.mean(p)"
   ]
  },
  {
   "cell_type": "code",
   "execution_count": 31,
   "metadata": {},
   "outputs": [
    {
     "data": {
      "text/plain": [
       "{'kp1', 'kp2', 'kp3'}"
      ]
     },
     "execution_count": 31,
     "metadata": {},
     "output_type": "execute_result"
    }
   ],
   "source": [
    "set(overlap[url][0])"
   ]
  },
  {
   "cell_type": "code",
   "execution_count": null,
   "metadata": {},
   "outputs": [],
   "source": []
  }
 ],
 "metadata": {
  "kernelspec": {
   "display_name": "Python 3",
   "language": "python",
   "name": "python3"
  },
  "language_info": {
   "codemirror_mode": {
    "name": "ipython",
    "version": 3
   },
   "file_extension": ".py",
   "mimetype": "text/x-python",
   "name": "python",
   "nbconvert_exporter": "python",
   "pygments_lexer": "ipython3",
   "version": "3.6.6"
  }
 },
 "nbformat": 4,
 "nbformat_minor": 2
}

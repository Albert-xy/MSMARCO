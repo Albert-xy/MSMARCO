{
 "cells": [
  {
   "cell_type": "code",
   "execution_count": 53,
   "metadata": {},
   "outputs": [],
   "source": [
    "import numpy as np\n",
    "import random\n",
    "import re\n",
    "files = ['KP100k.tsv']"
   ]
  },
  {
   "cell_type": "code",
   "execution_count": 117,
   "metadata": {},
   "outputs": [],
   "source": [
    "urls, judgements, p = {}, {}, []\n",
    "for file in files:\n",
    "    with open(file,'r') as f:\n",
    "        for l in f:\n",
    "            l = l.strip().split('\\t')\n",
    "            if l[14] not in urls:\n",
    "                urls[l[14]] = 0\n",
    "            urls[l[14]] += 1\n",
    "for file in files:\n",
    "    with open(file,'r') as f:\n",
    "        for l in f:\n",
    "            l = l.strip().split('\\t')\n",
    "            if urls[l[14]] > 1 and len(l) > 16:\n",
    "                if l[14] not in judgements and 'error' not in l[16].strip().lower():\n",
    "                    judgements[l[14]] = []\n",
    "                if 'error' not in l[16].strip().lower(): \n",
    "                    currentJudgements = []\n",
    "                    for phrase in l[16:]:\n",
    "                        currentJudgements.append(set(re.sub(' +', ' ',phrase.strip()).split(' ')))\n",
    "                    judgements[l[14]].append(currentJudgements)"
   ]
  },
  {
   "cell_type": "code",
   "execution_count": 128,
   "metadata": {},
   "outputs": [],
   "source": [
    "def getScoreUnigram(candidate, gold):\n",
    "    #Unigram Levenshtein distance\n",
    "    #First we produce all possible pairs and greedily select \n",
    "    scoring, bestMatch = {}, {}\n",
    "    maxScore = 0\n",
    "    maxLabel = ''\n",
    "    #Generate all possible combinations\n",
    "    for goldLabel in gold:\n",
    "        goldKey = str(goldLabel)\n",
    "        scoring[goldKey] = {}\n",
    "        for candidateLabel in candidate:\n",
    "            candidateKey = str(candidateLabel)\n",
    "            scoring[goldKey][candidateKey] = (len(goldLabel) - len(goldLabel-candidateLabel))/len(goldLabel)\n",
    "    #Greedily select best combination and then remove all related combinations.\n",
    "    while len(scoring) > 0:\n",
    "        maxScore = 0\n",
    "        maxLabel = ''\n",
    "        for goldLabel in scoring:\n",
    "            goldKey = str(goldLabel)\n",
    "            for candidateLabel in scoring[goldKey]:\n",
    "                candidateKey = str(candidateLabel)\n",
    "                score = scoring[goldKey][candidateKey]\n",
    "                if score >= maxScore:\n",
    "                    maxScore = score\n",
    "                    maxLabel = (goldKey, candidateKey)\n",
    "        bestMatch[maxLabel] = scoring[maxLabel[0]][maxLabel[1]]\n",
    "        scoring.pop(maxLabel[0])#remove all pairs that could\n",
    "    return sum(bestMatch.values())/len(gold)      "
   ]
  },
  {
   "cell_type": "code",
   "execution_count": 129,
   "metadata": {},
   "outputs": [],
   "source": [
    "def getScoreEM(candidate, gold):\n",
    "    #Unigram Levenshtein distance\n",
    "    #First we produce all possible pairs and greedily select \n",
    "    scoring, bestMatch = {}, {}\n",
    "    maxScore = 0\n",
    "    maxLabel = ''\n",
    "    #Generate all possible combinations\n",
    "    for goldLabel in gold:\n",
    "        goldKey = str(goldLabel)\n",
    "        scoring[goldKey] = {}\n",
    "        for candidateLabel in candidate:\n",
    "            candidateKey = str(candidateLabel)\n",
    "            if goldLabel == candidateLabel:\n",
    "                scoring[goldKey][candidateKey] = 1\n",
    "            else:\n",
    "                scoring[goldKey][candidateKey] = 0\n",
    "    #Greedily select best combination and then remove all related combinations.\n",
    "    while len(scoring) > 0:\n",
    "        maxScore = -1\n",
    "        maxLabel = ''\n",
    "        for goldLabel in scoring:\n",
    "            goldKey = str(goldLabel)\n",
    "            for candidateLabel in scoring[goldKey]:\n",
    "                candidateKey = str(candidateLabel)\n",
    "                score = scoring[goldKey][candidateKey]\n",
    "                if score >= maxScore:\n",
    "                    maxScore = score\n",
    "                    maxLabel = (goldKey, candidateKey)\n",
    "        bestMatch[maxLabel] = scoring[maxLabel[0]][maxLabel[1]]\n",
    "        scoring.pop(maxLabel[0])#remove all pairs that could\n",
    "    return sum(bestMatch.values())/len(gold) "
   ]
  },
  {
   "cell_type": "code",
   "execution_count": 141,
   "metadata": {},
   "outputs": [
    {
     "name": "stdout",
     "output_type": "stream",
     "text": [
      "Exact Match max:0.4968253968253968 min:0.3658730158730159 mean:0.4354140476190477\n",
      "Unigram max:0.6573544973544972 min:0.4976322751322751 mean:0.5770007037037038\n"
     ]
    }
   ],
   "source": [
    "#Boostrapping \n",
    "randomEM = []\n",
    "randomUnigram = []\n",
    "for i in range(10000):\n",
    "    scoresUnigram = []\n",
    "    scoresEM = []\n",
    "    for url in judgements:\n",
    "        goldIndex = random.randrange(0,len(judgements[url]))\n",
    "        for i in range(len(judgements[url])):\n",
    "            if goldIndex != i:\n",
    "                scoresUnigram.append(getScoreUnigram(judgements[url][goldIndex],judgements[url][i]))\n",
    "                scoresEM.append(getScoreEM(judgements[url][goldIndex],judgements[url][i]))\n",
    "    randomEM.append(np.mean(scoresEM))\n",
    "    randomUnigram.append(np.mean(scoresUnigram))\n",
    "print('Exact Match max:{} min:{} mean:{}'.format(np.max(randomEM), np.min(randomEM),np.mean(randomEM)))\n",
    "print('Unigram max:{} min:{} mean:{}'.format(np.max(randomUnigram), np.min(randomUnigram),np.mean(randomUnigram)))"
   ]
  },
  {
   "cell_type": "code",
   "execution_count": 139,
   "metadata": {},
   "outputs": [
    {
     "name": "stdout",
     "output_type": "stream",
     "text": [
      "Exact Match max:1.0 min:0.0 mean:0.5579365079365078\n",
      "Unigram max:1.0 min:0.0 mean:0.6900396825396826\n"
     ]
    }
   ],
   "source": [
    "#First Judge as Gold\n",
    "scoresUnigram = []\n",
    "scoresEM = []\n",
    "for url in judgements:\n",
    "    for i in range(len(judgements[url][1:])):\n",
    "            scoresUnigram.append(getScoreUnigram(judgements[url][0],judgements[url][i]))\n",
    "            scoresEM.append(getScoreEM(judgements[url][0],judgements[url][i]))\n",
    "print('Exact Match max:{} min:{} mean:{}'.format(np.max(scoresEM), np.min(scoresEM),np.mean(scoresEM)))\n",
    "print('Unigram max:{} min:{} mean:{}'.format(np.max(scoresUnigram), np.min(scoresUnigram),np.mean(scoresUnigram)))"
   ]
  },
  {
   "cell_type": "code",
   "execution_count": 137,
   "metadata": {},
   "outputs": [
    {
     "name": "stdout",
     "output_type": "stream",
     "text": [
      "Exact Match max:1.0 min:0.0 mean:0.5466988727858293\n",
      "Unigram max:1.0 min:0.0 mean:0.7270899470899471\n"
     ]
    }
   ],
   "source": [
    "#Highest Agreement\n",
    "#This form tends to skew towards a perfect score not because judges always get it right but because the judge with the highest agreement tended to only submit a single keyphrase. Since we are selecting the best match greedily judges tend to have agreement with this single keyphrase in at least one of their other keyphrases\n",
    "scoresEM = []\n",
    "scoresUnigram\n",
    "for url in judgements:\n",
    "    goldIndex = random.randrange(0,len(judgements[url]))\n",
    "    maxScore = 0\n",
    "    maxSequence = []\n",
    "    for i in range(len(judgements[url])):\n",
    "        currentRuns = []\n",
    "        for j in range(len(judgements[url])):\n",
    "            if j != i:\n",
    "                currentRuns.append(getScoreUnigram(judgements[url][i],judgements[url][j]))\n",
    "            if len(currentRuns) > 0:\n",
    "                currentScore = np.mean(currentRuns)\n",
    "                if maxScore < currentScore:\n",
    "                    maxScore = currentScore\n",
    "                    maxSequence = currentRuns\n",
    "    scoresUnigram += maxSequence\n",
    "for url in judgements:\n",
    "    goldIndex = random.randrange(0,len(judgements[url]))\n",
    "    maxScore = 0\n",
    "    maxSequence = []\n",
    "    for i in range(len(judgements[url])):\n",
    "        currentRuns = []\n",
    "        for j in range(len(judgements[url])):\n",
    "            if j != i:\n",
    "                currentRuns.append(getScoreEM(judgements[url][i],judgements[url][j]))\n",
    "            currentScore = np.mean(currentRuns)\n",
    "            if maxScore < currentScore:\n",
    "                maxScore = currentScore\n",
    "                maxSequence = currentRuns\n",
    "    scoresEM += maxSequence\n",
    "print('Exact Match max:{} min:{} mean:{}'.format(np.max(scoresEM), np.min(scoresEM),np.mean(scoresEM)))\n",
    "print('Unigram max:{} min:{} mean:{}'.format(np.max(scoresUnigram), np.min(scoresUnigram),np.mean(scoresUnigram)))"
   ]
  },
  {
   "cell_type": "code",
   "execution_count": 138,
   "metadata": {},
   "outputs": [
    {
     "name": "stdout",
     "output_type": "stream",
     "text": [
      "Exact Match max:1.0 min:0.0 mean:0.43513257575757575\n",
      "Unigram max:1.0 min:0.0 mean:0.5766466750841751\n"
     ]
    }
   ],
   "source": [
    "#Pariwise\n",
    "scoresUnigram = []\n",
    "scoresEM = []\n",
    "for url in judgements:\n",
    "    for i in range(len(judgements[url])):\n",
    "        currentRuns = []\n",
    "        for j in range(len(judgements[url])):\n",
    "            if j != i:\n",
    "                currentRuns.append(getScoreUnigram(judgements[url][i],judgements[url][j]))\n",
    "        if len(currentRuns) > 0:\n",
    "            scoresUnigram.append(np.sum(currentRuns)/(len(judgements[url])-1))\n",
    "for url in judgements:\n",
    "    for i in range(len(judgements[url])):\n",
    "        currentRuns = []\n",
    "        for j in range(len(judgements[url])):\n",
    "            if j != i:\n",
    "                currentRuns.append(getScoreEM(judgements[url][i],judgements[url][j]))\n",
    "        if len(currentRuns) > 0:\n",
    "            scoresEM.append(np.sum(currentRuns)/(len(judgements[url])-1))\n",
    "print('Exact Match max:{} min:{} mean:{}'.format(np.max(scoresEM), np.min(scoresEM),np.mean(scoresEM)))\n",
    "print('Unigram max:{} min:{} mean:{}'.format(np.max(scoresUnigram), np.min(scoresUnigram),np.mean(scoresUnigram)))"
   ]
  },
  {
   "cell_type": "code",
   "execution_count": null,
   "metadata": {},
   "outputs": [],
   "source": []
  }
 ],
 "metadata": {
  "kernelspec": {
   "display_name": "Python 3",
   "language": "python",
   "name": "python3"
  },
  "language_info": {
   "codemirror_mode": {
    "name": "ipython",
    "version": 3
   },
   "file_extension": ".py",
   "mimetype": "text/x-python",
   "name": "python",
   "nbconvert_exporter": "python",
   "pygments_lexer": "ipython3",
   "version": "3.6.6"
  }
 },
 "nbformat": 4,
 "nbformat_minor": 2
}

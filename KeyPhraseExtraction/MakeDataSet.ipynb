{
 "cells": [
  {
   "cell_type": "code",
   "execution_count": 53,
   "metadata": {},
   "outputs": [],
   "source": [
    "import numpy as np\n",
    "import random\n",
    "import re\n",
    "files = ['100k.tsv']"
   ]
  },
  {
   "cell_type": "code",
   "execution_count": 117,
   "metadata": {},
   "outputs": [],
   "source": [
    "urls, judgements, p = {}, {}, []\n",
    "for file in files:\n",
    "    with open(file,'r') as f:\n",
    "        for l in f:\n",
    "            l = l.strip().split('\\t')\n",
    "            if l[14] not in urls:\n",
    "                urls[l[14]] = 0\n",
    "            urls[l[14]] += 1\n",
    "for file in files:\n",
    "    with open(file,'r') as f:\n",
    "        for l in f:\n",
    "            l = l.strip().split('\\t')\n",
    "            if urls[l[14]] > 1 and len(l) > 16:\n",
    "                if l[14] not in judgements and 'error' not in l[16].strip().lower():\n",
    "                    judgements[l[14]] = []\n",
    "                if 'error' not in l[16].strip().lower(): \n",
    "                    currentJudgements = []\n",
    "                    for phrase in l[16:]:\n",
    "                        currentJudgements.append(set(re.sub(' +', ' ',phrase.strip()).split(' ')))\n",
    "                    judgements[l[14]].append(currentJudgements)"
   ]
  },
  {
   "cell_type": "code",
   "execution_count": 110,
   "metadata": {},
   "outputs": [],
   "source": [
    "def getScore(candidate, gold):\n",
    "    #Unigram Levenshtein distance\n",
    "    #First we produce all possible pairs and greedily select \n",
    "    scoring, bestMatch = {}, {}\n",
    "    maxScore = 0\n",
    "    maxLabel = ''\n",
    "    #Generate all possible combinations\n",
    "    for goldLabel in gold:\n",
    "        goldKey = str(goldLabel)\n",
    "        scoring[goldKey] = {}\n",
    "        for candidateLabel in candidate:\n",
    "            candidateKey = str(candidateLabel)\n",
    "            scoring[goldKey][candidateKey] = (len(goldLabel) - len(goldLabel-candidateLabel))/len(goldLabel)\n",
    "    #Greedily select best combination and then remove all related combinations.\n",
    "    while len(scoring) > 0:\n",
    "        maxScore = 0\n",
    "        maxLabel = ''\n",
    "        for goldLabel in scoring:\n",
    "            goldKey = str(goldLabel)\n",
    "            for candidateLabel in scoring[goldKey]:\n",
    "                candidateKey = str(candidateLabel)\n",
    "                score = scoring[goldKey][candidateKey]\n",
    "                if score >= maxScore:\n",
    "                    maxScore = score\n",
    "                    maxLabel = (goldKey, candidateKey)\n",
    "        bestMatch[maxLabel] = scoring[maxLabel[0]][maxLabel[1]]\n",
    "        scoring.pop(maxLabel[0])#remove all pairs that could\n",
    "    return sum(bestMatch.values())/len(gold)      "
   ]
  },
  {
   "cell_type": "code",
   "execution_count": 83,
   "metadata": {},
   "outputs": [
    {
     "name": "stdout",
     "output_type": "stream",
     "text": [
      "0.6470502645502646\n",
      "0.5764470687830688\n",
      "0.49829365079365073\n"
     ]
    }
   ],
   "source": [
    "#Boostrapping \n",
    "randomDependent = []\n",
    "for i in range(10000):\n",
    "    scores = []\n",
    "    for url in judgements:\n",
    "        goldIndex = random.randrange(0,len(judgements[url]))\n",
    "        for i in range(len(judgements[url])):\n",
    "            if goldIndex != i:\n",
    "                scores.append(getScore(judgements[url][goldIndex],judgements[url][i]))\n",
    "    randomDependent.append(np.mean(scores))\n",
    "print(np.max(randomDependent))\n",
    "print(np.mean(randomDependent))\n",
    "print(np.min(randomDependent))"
   ]
  },
  {
   "cell_type": "code",
   "execution_count": 118,
   "metadata": {},
   "outputs": [
    {
     "name": "stdout",
     "output_type": "stream",
     "text": [
      "1.0\n",
      "0.6900396825396826\n",
      "0.0\n"
     ]
    }
   ],
   "source": [
    "#First Judge as Gold\n",
    "scores = []\n",
    "for url in judgements:\n",
    "    for i in range(len(judgements[url][1:])):\n",
    "            scores.append(getScore(judgements[url][0],judgements[url][i]))\n",
    "print(np.max(scores))\n",
    "print(np.mean(scores))\n",
    "print(np.min(scores))"
   ]
  },
  {
   "cell_type": "code",
   "execution_count": 119,
   "metadata": {},
   "outputs": [
    {
     "name": "stdout",
     "output_type": "stream",
     "text": [
      "1.0\n",
      "0.7731746031746032\n",
      "0.0\n"
     ]
    }
   ],
   "source": [
    "#Highest Agreement\n",
    "#This form tends to skew towards a perfect score not because judges always get it right but because the judge with the highest agreement tended to only submit a single keyphrase. Since we are selecting the best match greedily judges tend to have agreement with this single keyphrase in at least one of their other keyphrases\n",
    "scores = []\n",
    "for url in judgements:\n",
    "    goldIndex = random.randrange(0,len(judgements[url]))\n",
    "    maxScore = 0\n",
    "    maxSequence = []\n",
    "    for i in range(len(judgements[url])):\n",
    "        currentRuns = []\n",
    "        for j in range(len(judgements[url])):\n",
    "            if j != i:\n",
    "                currentRuns.append(getScore(judgements[url][j],judgements[url][i]))\n",
    "        currentScore = np.mean(currentRuns)\n",
    "        if maxScore < currentScore:\n",
    "            maxScore = currentScore\n",
    "            maxSequence = currentRuns\n",
    "    scores += maxSequence\n",
    "print(np.max(scores))\n",
    "print(np.mean(scores))\n",
    "print(np.min(scores))"
   ]
  },
  {
   "cell_type": "code",
   "execution_count": 123,
   "metadata": {},
   "outputs": [
    {
     "name": "stdout",
     "output_type": "stream",
     "text": [
      "1.0\n",
      "0.5766466750841751\n",
      "0.0\n"
     ]
    }
   ],
   "source": [
    "#Each Judgment vs All other judgments\n",
    "scores = []\n",
    "for url in judgements:\n",
    "    for i in range(len(judgements[url])):\n",
    "        currentRuns = []\n",
    "        for j in range(len(judgements[url])):\n",
    "            if j != i:\n",
    "                currentRuns.append(getScore(judgements[url][i],judgements[url][j]))\n",
    "        if len(currentRuns) > 0:\n",
    "            scores.append(np.sum(currentRuns)/(len(judgements[url])-1))\n",
    "print(np.max(scores))\n",
    "print(np.mean(scores))\n",
    "print(np.min(scores))"
   ]
  },
  {
   "cell_type": "code",
   "execution_count": 126,
   "metadata": {},
   "outputs": [
    {
     "data": {
      "text/plain": [
       "264"
      ]
     },
     "execution_count": 126,
     "metadata": {},
     "output_type": "execute_result"
    }
   ],
   "source": [
    "len(scores)"
   ]
  },
  {
   "cell_type": "code",
   "execution_count": null,
   "metadata": {},
   "outputs": [],
   "source": []
  }
 ],
 "metadata": {
  "kernelspec": {
   "display_name": "Python 3",
   "language": "python",
   "name": "python3"
  },
  "language_info": {
   "codemirror_mode": {
    "name": "ipython",
    "version": 3
   },
   "file_extension": ".py",
   "mimetype": "text/x-python",
   "name": "python",
   "nbconvert_exporter": "python",
   "pygments_lexer": "ipython3",
   "version": "3.6.6"
  }
 },
 "nbformat": 4,
 "nbformat_minor": 2
}
